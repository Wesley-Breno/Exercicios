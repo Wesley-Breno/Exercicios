{
 "cells": [
  {
   "cell_type": "markdown",
   "id": "a2878407",
   "metadata": {},
   "source": [
    "<h1>CN2 | Predict whether or not customers will repay a loan</h1>\n",
    "\n",
    "<h3>Resume</h3>\n",
    "<p>In this notebook, we try to predict whether or not a customer will pay back the loan they are applying for, using the CN2 algorithm to create classification rules based on user data.</p>\n",
    "<p><i>If it gives 0 == pay, if it gives 1 == does not pay</i></p>\n",
    "<hr>"
   ]
  },
  {
   "cell_type": "markdown",
   "id": "e0a3efe5",
   "metadata": {},
   "source": [
    "<h2>Importing the necessary data and libraries</h2>"
   ]
  },
  {
   "cell_type": "code",
   "execution_count": 41,
   "id": "ad23478b",
   "metadata": {},
   "outputs": [],
   "source": [
    "import Orange"
   ]
  },
  {
   "cell_type": "code",
   "execution_count": 42,
   "id": "5c03bf4b",
   "metadata": {},
   "outputs": [],
   "source": [
    "base_credit = Orange.data.Table('credit_data_regras.csv')"
   ]
  },
  {
   "cell_type": "code",
   "execution_count": 43,
   "id": "1d90f3e2",
   "metadata": {},
   "outputs": [
    {
     "data": {
      "text/plain": [
       "[[66155.9, 59.017, 8106.53 | 0],\n",
       " [34415.2, 48.1172, 6564.75 | 0],\n",
       " [57317.2, 63.108, 8020.95 | 0],\n",
       " [42709.5, 45.752, 6103.64 | 0],\n",
       " [66952.7, 18.5843, 8770.1 | 1],\n",
       " ...\n",
       "]"
      ]
     },
     "execution_count": 43,
     "metadata": {},
     "output_type": "execute_result"
    }
   ],
   "source": [
    "base_credit"
   ]
  },
  {
   "cell_type": "code",
   "execution_count": 44,
   "id": "f2458f7e",
   "metadata": {},
   "outputs": [
    {
     "data": {
      "text/plain": [
       "[income, age, loan | default]"
      ]
     },
     "execution_count": 44,
     "metadata": {},
     "output_type": "execute_result"
    }
   ],
   "source": [
    "base_credit.domain"
   ]
  },
  {
   "cell_type": "markdown",
   "id": "f6045df2",
   "metadata": {},
   "source": [
    "<h2>Splitting the data between training and testing bases.</h2>"
   ]
  },
  {
   "cell_type": "code",
   "execution_count": 45,
   "id": "7c0a6e76",
   "metadata": {},
   "outputs": [],
   "source": [
    "base_splited = Orange.evaluation.testing.sample(base_credit, n=0.25)"
   ]
  },
  {
   "cell_type": "code",
   "execution_count": 46,
   "id": "85ece3ce",
   "metadata": {},
   "outputs": [
    {
     "data": {
      "text/plain": [
       "([[26867.1, 32.6223, 1730.15 | 0],\n",
       "  [57163.9, 53.5448, 577.531 | 0],\n",
       "  [61952.9, 18.4774, 3635.6 | 0],\n",
       "  [36801.9, 43.0279, 5406.34 | 0],\n",
       "  [30415.1, 22.9836, 4362.08 | 1],\n",
       "  ...\n",
       " ],\n",
       " [[47398.3, 50.1734, 9041.88 | 0],\n",
       "  [55273.3, 25.4164, 10283 | 1],\n",
       "  [66393.7, 58.6123, 9540.42 | 0],\n",
       "  [61800, 29.6658, 9143.61 | 1],\n",
       "  [59267.3, 34.9127, 5085.31 | 0],\n",
       "  ...\n",
       " ])"
      ]
     },
     "execution_count": 46,
     "metadata": {},
     "output_type": "execute_result"
    }
   ],
   "source": [
    "base_splited"
   ]
  },
  {
   "cell_type": "code",
   "execution_count": 47,
   "id": "08631773",
   "metadata": {},
   "outputs": [],
   "source": [
    "base_train = base_splited[1]  # 75% of the data\n",
    "base_test = base_splited[0]  # 25% of the data"
   ]
  },
  {
   "cell_type": "markdown",
   "id": "16b15846",
   "metadata": {},
   "source": [
    "<h2>Conducting training and showing the rules that were created</h2>"
   ]
  },
  {
   "cell_type": "code",
   "execution_count": 48,
   "id": "6e21927b",
   "metadata": {},
   "outputs": [],
   "source": [
    "cn2 = Orange.classification.rules.CN2Learner()"
   ]
  },
  {
   "cell_type": "code",
   "execution_count": 49,
   "id": "8d8a0e82",
   "metadata": {},
   "outputs": [],
   "source": [
    "trained_model = cn2(base_treinamento)"
   ]
  },
  {
   "cell_type": "code",
   "execution_count": 50,
   "id": "1c1a9cad",
   "metadata": {},
   "outputs": [
    {
     "name": "stdout",
     "output_type": "stream",
     "text": [
      "IF age>=34.9257164876908 THEN default=0 \n",
      "IF loan<=2495.13299137587 AND income>=20568.891305010802 THEN default=0 \n",
      "IF loan>=7660.34617051509 AND loan>=9698.582169129 THEN default=1 \n",
      "IF income<=31722.7309499867 AND loan>=3343.81635769923 THEN default=1 \n",
      "IF income>=56086.0580927692 AND income>=69695.1504494064 THEN default=1 \n",
      "IF income>=56086.0580927692 AND income>=68762.4166649766 THEN default=0 \n",
      "IF loan>=7498.630446855849 AND age>=18.3097456344403 THEN default=1 \n",
      "IF income>=54421.054006088496 AND income>=56086.0580927692 THEN default=0 \n",
      "IF loan>=5659.509277874139 AND age>=26.854012909811 THEN default=1 \n",
      "IF loan>=6289.25607587104 THEN default=1 \n",
      "IF income<=22089.8374845274 AND age>=21.3656869572587 THEN default=1 \n",
      "IF income>=40496.2558229454 AND income>=50360.6787929311 THEN default=0 \n",
      "IF loan<=4849.33378471958 AND income>=37162.8882177174 THEN default=0 \n",
      "IF age<=18.9473467003554 AND income>=34667.0204005204 THEN default=0 \n",
      "IF loan<=4285.38691174949 AND loan>=4285.38691174949 THEN default=1 \n",
      "IF loan<=4367.26495019919 AND income>=33093.9618567936 THEN default=0 \n",
      "IF loan<=3293.25087871026 AND income>=27407.056202646298 THEN default=0 \n",
      "IF loan>=5968.4420381087 THEN default=1 \n",
      "IF income>=45840.2076200582 THEN default=0 \n",
      "IF income>=32720.504798926402 AND loan>=5282.728560308379 THEN default=1 \n",
      "IF income>=32720.504798926402 AND loan>=5154.909842680399 THEN default=0 \n",
      "IF income>=32720.504798926402 THEN default=1 \n",
      "IF income>=29775.1422203146 THEN default=0 \n",
      "IF income>=26037.4636435881 THEN default=1 \n",
      "IF income>=22925.8120805025 THEN default=0 \n",
      "IF income>=22832.3239297606 THEN default=1 \n",
      "IF income<=22089.8374845274 THEN default=0 \n",
      "IF TRUE THEN default=0 \n"
     ]
    }
   ],
   "source": [
    "for rule in trained_model.rule_list:\n",
    "    print(rule)"
   ]
  },
  {
   "cell_type": "markdown",
   "id": "c972f17f",
   "metadata": {},
   "source": [
    "<h2>Making predictions and showing the trained model’s score</h2>"
   ]
  },
  {
   "cell_type": "code",
   "execution_count": 51,
   "id": "58792c6c",
   "metadata": {},
   "outputs": [],
   "source": [
    "predictions = Orange.evaluation.testing.TestOnTestData(\n",
    "    base_train, \n",
    "    base_test, \n",
    "    [lambda testdata: trained_model]\n",
    ")"
   ]
  },
  {
   "cell_type": "code",
   "execution_count": 52,
   "id": "aa46cef1",
   "metadata": {},
   "outputs": [
    {
     "data": {
      "text/plain": [
       "<Orange.evaluation.testing.Results at 0x239ed03ed10>"
      ]
     },
     "execution_count": 52,
     "metadata": {},
     "output_type": "execute_result"
    }
   ],
   "source": [
    "predictions"
   ]
  },
  {
   "cell_type": "code",
   "execution_count": 53,
   "id": "ed4cae81",
   "metadata": {},
   "outputs": [
    {
     "data": {
      "text/plain": [
       "array([0.988])"
      ]
     },
     "execution_count": 53,
     "metadata": {},
     "output_type": "execute_result"
    }
   ],
   "source": [
    "Orange.evaluation.CA(predictions)"
   ]
  },
  {
   "cell_type": "code",
   "execution_count": null,
   "id": "e5255d5a",
   "metadata": {},
   "outputs": [],
   "source": []
  }
 ],
 "metadata": {
  "kernelspec": {
   "display_name": "Python 3 (ipykernel)",
   "language": "python",
   "name": "python3"
  },
  "language_info": {
   "codemirror_mode": {
    "name": "ipython",
    "version": 3
   },
   "file_extension": ".py",
   "mimetype": "text/x-python",
   "name": "python",
   "nbconvert_exporter": "python",
   "pygments_lexer": "ipython3",
   "version": "3.11.3"
  }
 },
 "nbformat": 4,
 "nbformat_minor": 5
}
